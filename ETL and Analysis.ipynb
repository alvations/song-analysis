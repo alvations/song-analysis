{
 "cells": [
  {
   "cell_type": "code",
   "execution_count": 24,
   "metadata": {},
   "outputs": [
    {
     "ename": "ImportError",
     "evalue": "No module named glob2",
     "output_type": "error",
     "traceback": [
      "\u001b[0;31m---------------------------------------------------------------------------\u001b[0m",
      "\u001b[0;31mImportError\u001b[0m                               Traceback (most recent call last)",
      "\u001b[0;32m<ipython-input-24-9d6a840304ed>\u001b[0m in \u001b[0;36m<module>\u001b[0;34m()\u001b[0m\n\u001b[1;32m      5\u001b[0m \u001b[0;32mimport\u001b[0m \u001b[0mcsv\u001b[0m\u001b[0;34m\u001b[0m\u001b[0m\n\u001b[1;32m      6\u001b[0m \u001b[0;32mimport\u001b[0m \u001b[0mgensim\u001b[0m\u001b[0;34m.\u001b[0m\u001b[0mmodels\u001b[0m\u001b[0;34m.\u001b[0m\u001b[0mword2vec\u001b[0m \u001b[0;32mas\u001b[0m \u001b[0mw2v\u001b[0m\u001b[0;34m\u001b[0m\u001b[0m\n\u001b[0;32m----> 7\u001b[0;31m \u001b[0;32mimport\u001b[0m \u001b[0mglob2\u001b[0m\u001b[0;34m\u001b[0m\u001b[0m\n\u001b[0m\u001b[1;32m      8\u001b[0m \u001b[0;32mimport\u001b[0m \u001b[0mtime\u001b[0m\u001b[0;34m\u001b[0m\u001b[0m\n",
      "\u001b[0;31mImportError\u001b[0m: No module named glob2"
     ]
    }
   ],
   "source": [
    "import pickle\n",
    "import multiprocessing\n",
    "import os, re, sys\n",
    "import nltk\n",
    "import csv\n",
    "import gensim.models.word2vec as w2v\n",
    "import glob2\n",
    "import time"
   ]
  },
  {
   "cell_type": "markdown",
   "metadata": {
    "collapsed": true
   },
   "source": [
    "# ETL and Analysis of the Data"
   ]
  },
  {
   "cell_type": "code",
   "execution_count": 5,
   "metadata": {
    "collapsed": true
   },
   "outputs": [],
   "source": [
    "songdata_filepath = \"songdata.csv\"                #simple csv\n",
    "\n",
    "reddit_filepath = \"reddit-top-2.5-million-master\" #this is a dir, we'll walk through it to create a\n",
    "                                                  #dict of subreddits and posts\n"
   ]
  },
  {
   "cell_type": "markdown",
   "metadata": {},
   "source": [
    "## Start with songs"
   ]
  },
  {
   "cell_type": "code",
   "execution_count": 16,
   "metadata": {},
   "outputs": [],
   "source": [
    "songs_list = []\n",
    "\n",
    "with open(songdata_filepath, 'rb') as csvfile:\n",
    "    song_reader = csv.reader(csvfile)\n",
    "    i = 0\n",
    "    for row in song_reader:\n",
    "        if(i == 0):\n",
    "            next\n",
    "        else:\n",
    "            song = {'artist': row[0], 'title': row[1], 'lyric_link': row[2], 'text': row[3]}\n",
    "            songs_list.append(song)\n",
    "        i += 1"
   ]
  },
  {
   "cell_type": "code",
   "execution_count": 21,
   "metadata": {},
   "outputs": [
    {
     "data": {
      "text/plain": [
       "{'artist': 'Air Supply',\n",
       " 'lyric_link': '/a/air+supply/do+it+again_20004902.html',\n",
       " 'text': \"I used to watch you walk away  \\nTil the road you take would bend  \\nI was the man to turn you on  \\nAnd you knew it after all  \\nCome tomorrow when I'm all weary  \\nYou would turn me down again  \\nAt least that's the way I can remember  \\n  \\nDo it again, do it again  \\nDo it again, do it again  \\n  \\nEvery little word you told me got home  \\nI'm still thinking about them  \\nEvery little secret we could have known  \\nAnd we can't live without them  \\n  \\nYou surely started something  \\nYou surely gave me something new  \\n  \\nDo it again, do it again  \\nDo it again, do it again  \\n  \\nAnd I do think about you each now and then  \\nAnd each time it gets tighter  \\nFrom the road I can see the last break  \\nAnd my head's getting lighter  \\n  \\nDo it again, do it again (repeat)  \\n\\n\",\n",
       " 'title': 'Do It Again'}"
      ]
     },
     "execution_count": 21,
     "metadata": {},
     "output_type": "execute_result"
    }
   ],
   "source": [
    "songs_list[258]"
   ]
  },
  {
   "cell_type": "code",
   "execution_count": 22,
   "metadata": {},
   "outputs": [
    {
     "data": {
      "text/plain": [
       "57650"
      ]
     },
     "execution_count": 22,
     "metadata": {},
     "output_type": "execute_result"
    }
   ],
   "source": [
    "len(songs_list)   #should be 57,650 songs"
   ]
  },
  {
   "cell_type": "markdown",
   "metadata": {},
   "source": [
    "## Now on to the subreddit posts"
   ]
  },
  {
   "cell_type": "code",
   "execution_count": null,
   "metadata": {
    "collapsed": true
   },
   "outputs": [],
   "source": [
    "subreddit_list = []\n",
    "\n"
   ]
  }
 ],
 "metadata": {
  "kernelspec": {
   "display_name": "Python 2",
   "language": "python",
   "name": "python2"
  },
  "language_info": {
   "codemirror_mode": {
    "name": "ipython",
    "version": 2
   },
   "file_extension": ".py",
   "mimetype": "text/x-python",
   "name": "python",
   "nbconvert_exporter": "python",
   "pygments_lexer": "ipython2",
   "version": "2.7.13"
  }
 },
 "nbformat": 4,
 "nbformat_minor": 2
}
